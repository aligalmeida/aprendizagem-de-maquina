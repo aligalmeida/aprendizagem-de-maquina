{
  "nbformat": 4,
  "nbformat_minor": 0,
  "metadata": {
    "colab": {
      "provenance": [],
      "authorship_tag": "ABX9TyPKJ/UqsGEFeBUFWc4mjZ3b",
      "include_colab_link": true
    },
    "kernelspec": {
      "name": "python3",
      "display_name": "Python 3"
    },
    "language_info": {
      "name": "python"
    }
  },
  "cells": [
    {
      "cell_type": "markdown",
      "metadata": {
        "id": "view-in-github",
        "colab_type": "text"
      },
      "source": [
        "<a href=\"https://colab.research.google.com/github/aligalmeida/aprendizagem-de-maquina/blob/main/DeveresDeCasa/Dever-06/aula08.ipynb\" target=\"_parent\"><img src=\"https://colab.research.google.com/assets/colab-badge.svg\" alt=\"Open In Colab\"/></a>"
      ]
    },
    {
      "cell_type": "code",
      "source": [
        "from sklearn.datasets import load_iris\n",
        "from sklearn.neighbors import KNeighborsClassifier\n",
        "\n",
        "# Carregando o dataset\n",
        "iris = load_iris()\n",
        "X = iris.data  # características (features)\n",
        "y = iris.target  # classes (rótulos)\n",
        "\n",
        "# Instanciando o modelo KNN com 3 vizinhos\n",
        "modelo_knn = KNeighborsClassifier(n_neighbors=3)\n",
        "\n",
        "# Treinando o modelo\n",
        "modelo_knn.fit(X, y)\n",
        "\n",
        "# Entradas de teste\n",
        "entrada = [[5.1, 3.5, 1.4, 0.2]]  # exemplo com valores típicos da classe Setosa\n",
        "\n",
        "# Fazendo a predição\n",
        "predicao = modelo_knn.predict(entrada)\n",
        "\n",
        "# Imprimindo o nome da flor prevista\n",
        "print(\"A flor prevista é:\", iris.target_names[predicao[0]])"
      ],
      "metadata": {
        "colab": {
          "base_uri": "https://localhost:8080/"
        },
        "id": "0LG414l9B4ES",
        "outputId": "8265d78c-7623-4746-a308-17ce218d18b7"
      },
      "execution_count": 3,
      "outputs": [
        {
          "output_type": "stream",
          "name": "stdout",
          "text": [
            "A flor prevista é: setosa\n"
          ]
        }
      ]
    }
  ]
}