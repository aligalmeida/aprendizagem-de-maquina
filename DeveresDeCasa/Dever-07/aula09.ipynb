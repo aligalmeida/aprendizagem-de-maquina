{
  "nbformat": 4,
  "nbformat_minor": 0,
  "metadata": {
    "colab": {
      "provenance": [],
      "authorship_tag": "ABX9TyMzoGH/wD/Nv8xlCgbVcxHm",
      "include_colab_link": true
    },
    "kernelspec": {
      "name": "python3",
      "display_name": "Python 3"
    },
    "language_info": {
      "name": "python"
    }
  },
  "cells": [
    {
      "cell_type": "markdown",
      "metadata": {
        "id": "view-in-github",
        "colab_type": "text"
      },
      "source": [
        "<a href=\"https://colab.research.google.com/github/aligalmeida/aprendizagem-de-maquina/blob/main/DeveresDeCasa/Dever-07/aula09.ipynb\" target=\"_parent\"><img src=\"https://colab.research.google.com/assets/colab-badge.svg\" alt=\"Open In Colab\"/></a>"
      ]
    },
    {
      "cell_type": "code",
      "source": [
        "from sklearn.datasets import load_iris\n",
        "from sklearn.model_selection import train_test_split\n",
        "\n",
        "# Carregando o dataset Iris\n",
        "iris = load_iris()\n",
        "X = iris.data\n",
        "y = iris.target\n",
        "\n",
        "# Dividindo com train_size de 40% (logo, test_size será 60%)\n",
        "X_treino, X_teste, y_treino, y_teste = train_test_split(X, y, train_size=0.4)\n",
        "\n",
        "# Imprimindo o número de itens do conjunto de teste\n",
        "print(f\"Quantidade de itens na amostra de teste: {len(X_teste)}\")"
      ],
      "metadata": {
        "colab": {
          "base_uri": "https://localhost:8080/"
        },
        "id": "2cW9PzPJ7PY1",
        "outputId": "dc2188d0-9c92-47b1-f9c5-236ab49e74b0"
      },
      "execution_count": 2,
      "outputs": [
        {
          "output_type": "stream",
          "name": "stdout",
          "text": [
            "Quantidade de itens na amostra de teste: 90\n"
          ]
        }
      ]
    }
  ]
}